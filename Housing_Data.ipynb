{
  "cells": [
    {
      "cell_type": "markdown",
      "metadata": {
        "id": "view-in-github",
        "colab_type": "text"
      },
      "source": [
        "<a href=\"https://colab.research.google.com/github/chakravarthipothureddy/chakravarthi.pothureddy/blob/main/Housing_Data.ipynb\" target=\"_parent\"><img src=\"https://colab.research.google.com/assets/colab-badge.svg\" alt=\"Open In Colab\"/></a>"
      ]
    },
    {
      "cell_type": "markdown",
      "id": "05a64677",
      "metadata": {
        "id": "05a64677"
      },
      "source": [
        "### Data Set Characteristics:\n",
        "\n",
        "##### Number of Instances:\n",
        " \t\n",
        "20640\n",
        "\n",
        "##### Number of Attributes:\n",
        " \t\n",
        "8 numeric, predictive attributes and the target\n",
        "\n",
        "##### Attribute Information:\n",
        " \t\n",
        "* MedInc median income in block\n",
        "* HouseAge median house age in block\n",
        "* AveRooms average number of rooms\n",
        "* AveBedrms average number of bedrooms\n",
        "* Population block population\n",
        "* AveOccup average house occupancy\n",
        "* Latitude house block latitude\n",
        "* Longitude house block longitude\n",
        "\n",
        "#### Target\n",
        "\n",
        "The target variable is the median house value in units of 100,000 for California districts.\n",
        "\n",
        "#### Documentation \n",
        "https://scikit-learn.org/stable/modules/generated/sklearn.datasets.fetch_california_housing.html#examples-using-sklearn-datasets-fetch-california-housing"
      ]
    },
    {
      "cell_type": "code",
      "execution_count": null,
      "id": "d4889908",
      "metadata": {
        "id": "d4889908"
      },
      "outputs": [],
      "source": [
        "# conda install -c conda-forge tensorflow, to install tensorflow package"
      ]
    },
    {
      "cell_type": "code",
      "execution_count": null,
      "id": "a5ce9a4b",
      "metadata": {
        "id": "a5ce9a4b"
      },
      "outputs": [],
      "source": [
        "# Import Required Libraries:\n",
        "import numpy as np\n",
        "import pandas as pd\n",
        "%matplotlib inline\n",
        "import matplotlib as mpl\n",
        "import matplotlib.pyplot as plt"
      ]
    },
    {
      "cell_type": "code",
      "source": [
        "# To represent the results in a data frame:\n",
        "from sklearn import metrics\n",
        "import numpy as np\n",
        "scores = pd.DataFrame(columns=['Model','MAE_Train','MSE_Train','RMSE_Train','MAPE_Test','MAE_Test','MSE_Test','RMSE_Test','MAPE_Test'])\n",
        "\n",
        "def get_metrics(train_act,train_pred,test_act,test_pred,model_description,dataframe):\n",
        "    MAE_Train = metrics.mean_absolute_error(train_act,train_pred)\n",
        "    MSE_Train = metrics.mean_squared_error(train_act,train_pred)\n",
        "    RMSE_Train = np.sqrt(metrics.mean_squared_error(train_act,train_pred))\n",
        "    MAPE_Train = metrics.mean_absolute_percentage_error(train_act,train_pred)\n",
        "    MAE_Test = metrics.mean_absolute_error(test_act,test_pred)\n",
        "    MSE_Test = metrics.mean_squared_error(test_act,test_pred)\n",
        "    RMSE_Test = np.sqrt(metrics.mean_squared_error(test_act,test_pred))\n",
        "    MAPE_Test = metrics.mean_absolute_percentage_error(test_act,test_pred)\n",
        "       \n",
        "    dataframe=dataframe.append(pd.Series([model_description,MAE_Train,MSE_Train,RMSE_Train,MAPE_Train,MAE_Test,MSE_Test,RMSE_Test,MAPE_Test],index=scores.columns ), ignore_index=True)\n",
        "    \n",
        "    return(dataframe)"
      ],
      "metadata": {
        "id": "2l2kf2nEQqvc"
      },
      "id": "2l2kf2nEQqvc",
      "execution_count": null,
      "outputs": []
    },
    {
      "cell_type": "code",
      "execution_count": null,
      "id": "79b05acb",
      "metadata": {
        "id": "79b05acb"
      },
      "outputs": [],
      "source": [
        "# Library to build Neural Networks:\n",
        "import tensorflow as tf\n",
        "from tensorflow import keras"
      ]
    },
    {
      "cell_type": "code",
      "execution_count": null,
      "id": "a0037d7b",
      "metadata": {
        "id": "a0037d7b"
      },
      "outputs": [],
      "source": [
        "# Fetching the data from sklearn:\n",
        "from sklearn.datasets import fetch_california_housing\n",
        "housing = fetch_california_housing()"
      ]
    },
    {
      "cell_type": "code",
      "execution_count": null,
      "id": "296e4387",
      "metadata": {
        "colab": {
          "base_uri": "https://localhost:8080/"
        },
        "id": "296e4387",
        "outputId": "c3d0d965-fb71-46c0-8321-8e8a586d5a96"
      },
      "outputs": [
        {
          "output_type": "execute_result",
          "data": {
            "text/plain": [
              "array([[   8.3252    ,   41.        ,    6.98412698, ...,    2.55555556,\n",
              "          37.88      , -122.23      ],\n",
              "       [   8.3014    ,   21.        ,    6.23813708, ...,    2.10984183,\n",
              "          37.86      , -122.22      ],\n",
              "       [   7.2574    ,   52.        ,    8.28813559, ...,    2.80225989,\n",
              "          37.85      , -122.24      ],\n",
              "       ...,\n",
              "       [   1.7       ,   17.        ,    5.20554273, ...,    2.3256351 ,\n",
              "          39.43      , -121.22      ],\n",
              "       [   1.8672    ,   18.        ,    5.32951289, ...,    2.12320917,\n",
              "          39.43      , -121.32      ],\n",
              "       [   2.3886    ,   16.        ,    5.25471698, ...,    2.61698113,\n",
              "          39.37      , -121.24      ]])"
            ]
          },
          "metadata": {},
          "execution_count": 168
        }
      ],
      "source": [
        "housing.data"
      ]
    },
    {
      "cell_type": "code",
      "execution_count": null,
      "id": "4a4dd33e",
      "metadata": {
        "id": "4a4dd33e"
      },
      "outputs": [],
      "source": [
        "# converting the data into a data frame:"
      ]
    },
    {
      "cell_type": "code",
      "source": [
        "df = pd.DataFrame(data=housing.data, columns=housing.feature_names)\n",
        "df[\"target\"] = housing.target"
      ],
      "metadata": {
        "id": "1z0yx8hLcWLS"
      },
      "id": "1z0yx8hLcWLS",
      "execution_count": null,
      "outputs": []
    },
    {
      "cell_type": "code",
      "execution_count": null,
      "id": "0536b052",
      "metadata": {
        "id": "0536b052"
      },
      "outputs": [],
      "source": [
        "# To display first five records:"
      ]
    },
    {
      "cell_type": "code",
      "source": [
        "df.head()"
      ],
      "metadata": {
        "colab": {
          "base_uri": "https://localhost:8080/",
          "height": 206
        },
        "id": "SUkPz9GVcoe4",
        "outputId": "d2705316-cd88-4666-e623-65c2ee65d2a3"
      },
      "id": "SUkPz9GVcoe4",
      "execution_count": null,
      "outputs": [
        {
          "output_type": "execute_result",
          "data": {
            "text/plain": [
              "   MedInc  HouseAge  AveRooms  AveBedrms  Population  AveOccup  Latitude  \\\n",
              "0  8.3252      41.0  6.984127   1.023810       322.0  2.555556     37.88   \n",
              "1  8.3014      21.0  6.238137   0.971880      2401.0  2.109842     37.86   \n",
              "2  7.2574      52.0  8.288136   1.073446       496.0  2.802260     37.85   \n",
              "3  5.6431      52.0  5.817352   1.073059       558.0  2.547945     37.85   \n",
              "4  3.8462      52.0  6.281853   1.081081       565.0  2.181467     37.85   \n",
              "\n",
              "   Longitude  target  \n",
              "0    -122.23   4.526  \n",
              "1    -122.22   3.585  \n",
              "2    -122.24   3.521  \n",
              "3    -122.25   3.413  \n",
              "4    -122.25   3.422  "
            ],
            "text/html": [
              "\n",
              "  <div id=\"df-d5e32d5f-588d-452b-956b-2e0c9f8f23bc\">\n",
              "    <div class=\"colab-df-container\">\n",
              "      <div>\n",
              "<style scoped>\n",
              "    .dataframe tbody tr th:only-of-type {\n",
              "        vertical-align: middle;\n",
              "    }\n",
              "\n",
              "    .dataframe tbody tr th {\n",
              "        vertical-align: top;\n",
              "    }\n",
              "\n",
              "    .dataframe thead th {\n",
              "        text-align: right;\n",
              "    }\n",
              "</style>\n",
              "<table border=\"1\" class=\"dataframe\">\n",
              "  <thead>\n",
              "    <tr style=\"text-align: right;\">\n",
              "      <th></th>\n",
              "      <th>MedInc</th>\n",
              "      <th>HouseAge</th>\n",
              "      <th>AveRooms</th>\n",
              "      <th>AveBedrms</th>\n",
              "      <th>Population</th>\n",
              "      <th>AveOccup</th>\n",
              "      <th>Latitude</th>\n",
              "      <th>Longitude</th>\n",
              "      <th>target</th>\n",
              "    </tr>\n",
              "  </thead>\n",
              "  <tbody>\n",
              "    <tr>\n",
              "      <th>0</th>\n",
              "      <td>8.3252</td>\n",
              "      <td>41.0</td>\n",
              "      <td>6.984127</td>\n",
              "      <td>1.023810</td>\n",
              "      <td>322.0</td>\n",
              "      <td>2.555556</td>\n",
              "      <td>37.88</td>\n",
              "      <td>-122.23</td>\n",
              "      <td>4.526</td>\n",
              "    </tr>\n",
              "    <tr>\n",
              "      <th>1</th>\n",
              "      <td>8.3014</td>\n",
              "      <td>21.0</td>\n",
              "      <td>6.238137</td>\n",
              "      <td>0.971880</td>\n",
              "      <td>2401.0</td>\n",
              "      <td>2.109842</td>\n",
              "      <td>37.86</td>\n",
              "      <td>-122.22</td>\n",
              "      <td>3.585</td>\n",
              "    </tr>\n",
              "    <tr>\n",
              "      <th>2</th>\n",
              "      <td>7.2574</td>\n",
              "      <td>52.0</td>\n",
              "      <td>8.288136</td>\n",
              "      <td>1.073446</td>\n",
              "      <td>496.0</td>\n",
              "      <td>2.802260</td>\n",
              "      <td>37.85</td>\n",
              "      <td>-122.24</td>\n",
              "      <td>3.521</td>\n",
              "    </tr>\n",
              "    <tr>\n",
              "      <th>3</th>\n",
              "      <td>5.6431</td>\n",
              "      <td>52.0</td>\n",
              "      <td>5.817352</td>\n",
              "      <td>1.073059</td>\n",
              "      <td>558.0</td>\n",
              "      <td>2.547945</td>\n",
              "      <td>37.85</td>\n",
              "      <td>-122.25</td>\n",
              "      <td>3.413</td>\n",
              "    </tr>\n",
              "    <tr>\n",
              "      <th>4</th>\n",
              "      <td>3.8462</td>\n",
              "      <td>52.0</td>\n",
              "      <td>6.281853</td>\n",
              "      <td>1.081081</td>\n",
              "      <td>565.0</td>\n",
              "      <td>2.181467</td>\n",
              "      <td>37.85</td>\n",
              "      <td>-122.25</td>\n",
              "      <td>3.422</td>\n",
              "    </tr>\n",
              "  </tbody>\n",
              "</table>\n",
              "</div>\n",
              "      <button class=\"colab-df-convert\" onclick=\"convertToInteractive('df-d5e32d5f-588d-452b-956b-2e0c9f8f23bc')\"\n",
              "              title=\"Convert this dataframe to an interactive table.\"\n",
              "              style=\"display:none;\">\n",
              "        \n",
              "  <svg xmlns=\"http://www.w3.org/2000/svg\" height=\"24px\"viewBox=\"0 0 24 24\"\n",
              "       width=\"24px\">\n",
              "    <path d=\"M0 0h24v24H0V0z\" fill=\"none\"/>\n",
              "    <path d=\"M18.56 5.44l.94 2.06.94-2.06 2.06-.94-2.06-.94-.94-2.06-.94 2.06-2.06.94zm-11 1L8.5 8.5l.94-2.06 2.06-.94-2.06-.94L8.5 2.5l-.94 2.06-2.06.94zm10 10l.94 2.06.94-2.06 2.06-.94-2.06-.94-.94-2.06-.94 2.06-2.06.94z\"/><path d=\"M17.41 7.96l-1.37-1.37c-.4-.4-.92-.59-1.43-.59-.52 0-1.04.2-1.43.59L10.3 9.45l-7.72 7.72c-.78.78-.78 2.05 0 2.83L4 21.41c.39.39.9.59 1.41.59.51 0 1.02-.2 1.41-.59l7.78-7.78 2.81-2.81c.8-.78.8-2.07 0-2.86zM5.41 20L4 18.59l7.72-7.72 1.47 1.35L5.41 20z\"/>\n",
              "  </svg>\n",
              "      </button>\n",
              "      \n",
              "  <style>\n",
              "    .colab-df-container {\n",
              "      display:flex;\n",
              "      flex-wrap:wrap;\n",
              "      gap: 12px;\n",
              "    }\n",
              "\n",
              "    .colab-df-convert {\n",
              "      background-color: #E8F0FE;\n",
              "      border: none;\n",
              "      border-radius: 50%;\n",
              "      cursor: pointer;\n",
              "      display: none;\n",
              "      fill: #1967D2;\n",
              "      height: 32px;\n",
              "      padding: 0 0 0 0;\n",
              "      width: 32px;\n",
              "    }\n",
              "\n",
              "    .colab-df-convert:hover {\n",
              "      background-color: #E2EBFA;\n",
              "      box-shadow: 0px 1px 2px rgba(60, 64, 67, 0.3), 0px 1px 3px 1px rgba(60, 64, 67, 0.15);\n",
              "      fill: #174EA6;\n",
              "    }\n",
              "\n",
              "    [theme=dark] .colab-df-convert {\n",
              "      background-color: #3B4455;\n",
              "      fill: #D2E3FC;\n",
              "    }\n",
              "\n",
              "    [theme=dark] .colab-df-convert:hover {\n",
              "      background-color: #434B5C;\n",
              "      box-shadow: 0px 1px 3px 1px rgba(0, 0, 0, 0.15);\n",
              "      filter: drop-shadow(0px 1px 2px rgba(0, 0, 0, 0.3));\n",
              "      fill: #FFFFFF;\n",
              "    }\n",
              "  </style>\n",
              "\n",
              "      <script>\n",
              "        const buttonEl =\n",
              "          document.querySelector('#df-d5e32d5f-588d-452b-956b-2e0c9f8f23bc button.colab-df-convert');\n",
              "        buttonEl.style.display =\n",
              "          google.colab.kernel.accessAllowed ? 'block' : 'none';\n",
              "\n",
              "        async function convertToInteractive(key) {\n",
              "          const element = document.querySelector('#df-d5e32d5f-588d-452b-956b-2e0c9f8f23bc');\n",
              "          const dataTable =\n",
              "            await google.colab.kernel.invokeFunction('convertToInteractive',\n",
              "                                                     [key], {});\n",
              "          if (!dataTable) return;\n",
              "\n",
              "          const docLinkHtml = 'Like what you see? Visit the ' +\n",
              "            '<a target=\"_blank\" href=https://colab.research.google.com/notebooks/data_table.ipynb>data table notebook</a>'\n",
              "            + ' to learn more about interactive tables.';\n",
              "          element.innerHTML = '';\n",
              "          dataTable['output_type'] = 'display_data';\n",
              "          await google.colab.output.renderOutput(dataTable, element);\n",
              "          const docLink = document.createElement('div');\n",
              "          docLink.innerHTML = docLinkHtml;\n",
              "          element.appendChild(docLink);\n",
              "        }\n",
              "      </script>\n",
              "    </div>\n",
              "  </div>\n",
              "  "
            ]
          },
          "metadata": {},
          "execution_count": 172
        }
      ]
    },
    {
      "cell_type": "code",
      "execution_count": null,
      "id": "5e53ef86",
      "metadata": {
        "id": "5e53ef86"
      },
      "outputs": [],
      "source": [
        "# Assigning names to columns:\n",
        "\n",
        "# 'MedInc', 'HouseAge', 'AveRooms', 'AveBedrms', 'Population', 'AveOccup', 'Latitude', 'Longitude'"
      ]
    },
    {
      "cell_type": "code",
      "source": [
        "df.columns"
      ],
      "metadata": {
        "colab": {
          "base_uri": "https://localhost:8080/"
        },
        "id": "8_Ftg0Jtcuh6",
        "outputId": "967da574-2b51-45e5-e1df-a397b2f8ebf3"
      },
      "id": "8_Ftg0Jtcuh6",
      "execution_count": null,
      "outputs": [
        {
          "output_type": "execute_result",
          "data": {
            "text/plain": [
              "Index(['MedInc', 'HouseAge', 'AveRooms', 'AveBedrms', 'Population', 'AveOccup',\n",
              "       'Latitude', 'Longitude', 'target'],\n",
              "      dtype='object')"
            ]
          },
          "metadata": {},
          "execution_count": 174
        }
      ]
    },
    {
      "cell_type": "code",
      "execution_count": null,
      "id": "c220e9b3",
      "metadata": {
        "colab": {
          "base_uri": "https://localhost:8080/"
        },
        "id": "c220e9b3",
        "outputId": "7b225fca-fb8b-4165-f8fc-bb9a25aaa791"
      },
      "outputs": [
        {
          "output_type": "stream",
          "name": "stdout",
          "text": [
            "['MedInc', 'HouseAge', 'AveRooms', 'AveBedrms', 'Population', 'AveOccup', 'Latitude', 'Longitude']\n"
          ]
        }
      ],
      "source": [
        "print(housing.feature_names)"
      ]
    },
    {
      "cell_type": "code",
      "execution_count": null,
      "id": "cf9a3716",
      "metadata": {
        "id": "cf9a3716"
      },
      "outputs": [],
      "source": [
        "# Splitting the data:"
      ]
    },
    {
      "cell_type": "code",
      "source": [
        "x = df.drop('target',axis =1)\n",
        "y = df['target']"
      ],
      "metadata": {
        "id": "KZbUz0-AczjR"
      },
      "id": "KZbUz0-AczjR",
      "execution_count": null,
      "outputs": []
    },
    {
      "cell_type": "code",
      "source": [
        "x"
      ],
      "metadata": {
        "colab": {
          "base_uri": "https://localhost:8080/",
          "height": 424
        },
        "id": "oYY32kaZdEuV",
        "outputId": "d4afbfce-3789-4d76-9a27-a7a1189e0b0c"
      },
      "id": "oYY32kaZdEuV",
      "execution_count": null,
      "outputs": [
        {
          "output_type": "execute_result",
          "data": {
            "text/plain": [
              "       MedInc  HouseAge  AveRooms  AveBedrms  Population  AveOccup  Latitude  \\\n",
              "0      8.3252      41.0  6.984127   1.023810       322.0  2.555556     37.88   \n",
              "1      8.3014      21.0  6.238137   0.971880      2401.0  2.109842     37.86   \n",
              "2      7.2574      52.0  8.288136   1.073446       496.0  2.802260     37.85   \n",
              "3      5.6431      52.0  5.817352   1.073059       558.0  2.547945     37.85   \n",
              "4      3.8462      52.0  6.281853   1.081081       565.0  2.181467     37.85   \n",
              "...       ...       ...       ...        ...         ...       ...       ...   \n",
              "20635  1.5603      25.0  5.045455   1.133333       845.0  2.560606     39.48   \n",
              "20636  2.5568      18.0  6.114035   1.315789       356.0  3.122807     39.49   \n",
              "20637  1.7000      17.0  5.205543   1.120092      1007.0  2.325635     39.43   \n",
              "20638  1.8672      18.0  5.329513   1.171920       741.0  2.123209     39.43   \n",
              "20639  2.3886      16.0  5.254717   1.162264      1387.0  2.616981     39.37   \n",
              "\n",
              "       Longitude  \n",
              "0        -122.23  \n",
              "1        -122.22  \n",
              "2        -122.24  \n",
              "3        -122.25  \n",
              "4        -122.25  \n",
              "...          ...  \n",
              "20635    -121.09  \n",
              "20636    -121.21  \n",
              "20637    -121.22  \n",
              "20638    -121.32  \n",
              "20639    -121.24  \n",
              "\n",
              "[20640 rows x 8 columns]"
            ],
            "text/html": [
              "\n",
              "  <div id=\"df-8fcfe4d6-34b4-44b8-a7af-e909b3d3e215\">\n",
              "    <div class=\"colab-df-container\">\n",
              "      <div>\n",
              "<style scoped>\n",
              "    .dataframe tbody tr th:only-of-type {\n",
              "        vertical-align: middle;\n",
              "    }\n",
              "\n",
              "    .dataframe tbody tr th {\n",
              "        vertical-align: top;\n",
              "    }\n",
              "\n",
              "    .dataframe thead th {\n",
              "        text-align: right;\n",
              "    }\n",
              "</style>\n",
              "<table border=\"1\" class=\"dataframe\">\n",
              "  <thead>\n",
              "    <tr style=\"text-align: right;\">\n",
              "      <th></th>\n",
              "      <th>MedInc</th>\n",
              "      <th>HouseAge</th>\n",
              "      <th>AveRooms</th>\n",
              "      <th>AveBedrms</th>\n",
              "      <th>Population</th>\n",
              "      <th>AveOccup</th>\n",
              "      <th>Latitude</th>\n",
              "      <th>Longitude</th>\n",
              "    </tr>\n",
              "  </thead>\n",
              "  <tbody>\n",
              "    <tr>\n",
              "      <th>0</th>\n",
              "      <td>8.3252</td>\n",
              "      <td>41.0</td>\n",
              "      <td>6.984127</td>\n",
              "      <td>1.023810</td>\n",
              "      <td>322.0</td>\n",
              "      <td>2.555556</td>\n",
              "      <td>37.88</td>\n",
              "      <td>-122.23</td>\n",
              "    </tr>\n",
              "    <tr>\n",
              "      <th>1</th>\n",
              "      <td>8.3014</td>\n",
              "      <td>21.0</td>\n",
              "      <td>6.238137</td>\n",
              "      <td>0.971880</td>\n",
              "      <td>2401.0</td>\n",
              "      <td>2.109842</td>\n",
              "      <td>37.86</td>\n",
              "      <td>-122.22</td>\n",
              "    </tr>\n",
              "    <tr>\n",
              "      <th>2</th>\n",
              "      <td>7.2574</td>\n",
              "      <td>52.0</td>\n",
              "      <td>8.288136</td>\n",
              "      <td>1.073446</td>\n",
              "      <td>496.0</td>\n",
              "      <td>2.802260</td>\n",
              "      <td>37.85</td>\n",
              "      <td>-122.24</td>\n",
              "    </tr>\n",
              "    <tr>\n",
              "      <th>3</th>\n",
              "      <td>5.6431</td>\n",
              "      <td>52.0</td>\n",
              "      <td>5.817352</td>\n",
              "      <td>1.073059</td>\n",
              "      <td>558.0</td>\n",
              "      <td>2.547945</td>\n",
              "      <td>37.85</td>\n",
              "      <td>-122.25</td>\n",
              "    </tr>\n",
              "    <tr>\n",
              "      <th>4</th>\n",
              "      <td>3.8462</td>\n",
              "      <td>52.0</td>\n",
              "      <td>6.281853</td>\n",
              "      <td>1.081081</td>\n",
              "      <td>565.0</td>\n",
              "      <td>2.181467</td>\n",
              "      <td>37.85</td>\n",
              "      <td>-122.25</td>\n",
              "    </tr>\n",
              "    <tr>\n",
              "      <th>...</th>\n",
              "      <td>...</td>\n",
              "      <td>...</td>\n",
              "      <td>...</td>\n",
              "      <td>...</td>\n",
              "      <td>...</td>\n",
              "      <td>...</td>\n",
              "      <td>...</td>\n",
              "      <td>...</td>\n",
              "    </tr>\n",
              "    <tr>\n",
              "      <th>20635</th>\n",
              "      <td>1.5603</td>\n",
              "      <td>25.0</td>\n",
              "      <td>5.045455</td>\n",
              "      <td>1.133333</td>\n",
              "      <td>845.0</td>\n",
              "      <td>2.560606</td>\n",
              "      <td>39.48</td>\n",
              "      <td>-121.09</td>\n",
              "    </tr>\n",
              "    <tr>\n",
              "      <th>20636</th>\n",
              "      <td>2.5568</td>\n",
              "      <td>18.0</td>\n",
              "      <td>6.114035</td>\n",
              "      <td>1.315789</td>\n",
              "      <td>356.0</td>\n",
              "      <td>3.122807</td>\n",
              "      <td>39.49</td>\n",
              "      <td>-121.21</td>\n",
              "    </tr>\n",
              "    <tr>\n",
              "      <th>20637</th>\n",
              "      <td>1.7000</td>\n",
              "      <td>17.0</td>\n",
              "      <td>5.205543</td>\n",
              "      <td>1.120092</td>\n",
              "      <td>1007.0</td>\n",
              "      <td>2.325635</td>\n",
              "      <td>39.43</td>\n",
              "      <td>-121.22</td>\n",
              "    </tr>\n",
              "    <tr>\n",
              "      <th>20638</th>\n",
              "      <td>1.8672</td>\n",
              "      <td>18.0</td>\n",
              "      <td>5.329513</td>\n",
              "      <td>1.171920</td>\n",
              "      <td>741.0</td>\n",
              "      <td>2.123209</td>\n",
              "      <td>39.43</td>\n",
              "      <td>-121.32</td>\n",
              "    </tr>\n",
              "    <tr>\n",
              "      <th>20639</th>\n",
              "      <td>2.3886</td>\n",
              "      <td>16.0</td>\n",
              "      <td>5.254717</td>\n",
              "      <td>1.162264</td>\n",
              "      <td>1387.0</td>\n",
              "      <td>2.616981</td>\n",
              "      <td>39.37</td>\n",
              "      <td>-121.24</td>\n",
              "    </tr>\n",
              "  </tbody>\n",
              "</table>\n",
              "<p>20640 rows × 8 columns</p>\n",
              "</div>\n",
              "      <button class=\"colab-df-convert\" onclick=\"convertToInteractive('df-8fcfe4d6-34b4-44b8-a7af-e909b3d3e215')\"\n",
              "              title=\"Convert this dataframe to an interactive table.\"\n",
              "              style=\"display:none;\">\n",
              "        \n",
              "  <svg xmlns=\"http://www.w3.org/2000/svg\" height=\"24px\"viewBox=\"0 0 24 24\"\n",
              "       width=\"24px\">\n",
              "    <path d=\"M0 0h24v24H0V0z\" fill=\"none\"/>\n",
              "    <path d=\"M18.56 5.44l.94 2.06.94-2.06 2.06-.94-2.06-.94-.94-2.06-.94 2.06-2.06.94zm-11 1L8.5 8.5l.94-2.06 2.06-.94-2.06-.94L8.5 2.5l-.94 2.06-2.06.94zm10 10l.94 2.06.94-2.06 2.06-.94-2.06-.94-.94-2.06-.94 2.06-2.06.94z\"/><path d=\"M17.41 7.96l-1.37-1.37c-.4-.4-.92-.59-1.43-.59-.52 0-1.04.2-1.43.59L10.3 9.45l-7.72 7.72c-.78.78-.78 2.05 0 2.83L4 21.41c.39.39.9.59 1.41.59.51 0 1.02-.2 1.41-.59l7.78-7.78 2.81-2.81c.8-.78.8-2.07 0-2.86zM5.41 20L4 18.59l7.72-7.72 1.47 1.35L5.41 20z\"/>\n",
              "  </svg>\n",
              "      </button>\n",
              "      \n",
              "  <style>\n",
              "    .colab-df-container {\n",
              "      display:flex;\n",
              "      flex-wrap:wrap;\n",
              "      gap: 12px;\n",
              "    }\n",
              "\n",
              "    .colab-df-convert {\n",
              "      background-color: #E8F0FE;\n",
              "      border: none;\n",
              "      border-radius: 50%;\n",
              "      cursor: pointer;\n",
              "      display: none;\n",
              "      fill: #1967D2;\n",
              "      height: 32px;\n",
              "      padding: 0 0 0 0;\n",
              "      width: 32px;\n",
              "    }\n",
              "\n",
              "    .colab-df-convert:hover {\n",
              "      background-color: #E2EBFA;\n",
              "      box-shadow: 0px 1px 2px rgba(60, 64, 67, 0.3), 0px 1px 3px 1px rgba(60, 64, 67, 0.15);\n",
              "      fill: #174EA6;\n",
              "    }\n",
              "\n",
              "    [theme=dark] .colab-df-convert {\n",
              "      background-color: #3B4455;\n",
              "      fill: #D2E3FC;\n",
              "    }\n",
              "\n",
              "    [theme=dark] .colab-df-convert:hover {\n",
              "      background-color: #434B5C;\n",
              "      box-shadow: 0px 1px 3px 1px rgba(0, 0, 0, 0.15);\n",
              "      filter: drop-shadow(0px 1px 2px rgba(0, 0, 0, 0.3));\n",
              "      fill: #FFFFFF;\n",
              "    }\n",
              "  </style>\n",
              "\n",
              "      <script>\n",
              "        const buttonEl =\n",
              "          document.querySelector('#df-8fcfe4d6-34b4-44b8-a7af-e909b3d3e215 button.colab-df-convert');\n",
              "        buttonEl.style.display =\n",
              "          google.colab.kernel.accessAllowed ? 'block' : 'none';\n",
              "\n",
              "        async function convertToInteractive(key) {\n",
              "          const element = document.querySelector('#df-8fcfe4d6-34b4-44b8-a7af-e909b3d3e215');\n",
              "          const dataTable =\n",
              "            await google.colab.kernel.invokeFunction('convertToInteractive',\n",
              "                                                     [key], {});\n",
              "          if (!dataTable) return;\n",
              "\n",
              "          const docLinkHtml = 'Like what you see? Visit the ' +\n",
              "            '<a target=\"_blank\" href=https://colab.research.google.com/notebooks/data_table.ipynb>data table notebook</a>'\n",
              "            + ' to learn more about interactive tables.';\n",
              "          element.innerHTML = '';\n",
              "          dataTable['output_type'] = 'display_data';\n",
              "          await google.colab.output.renderOutput(dataTable, element);\n",
              "          const docLink = document.createElement('div');\n",
              "          docLink.innerHTML = docLinkHtml;\n",
              "          element.appendChild(docLink);\n",
              "        }\n",
              "      </script>\n",
              "    </div>\n",
              "  </div>\n",
              "  "
            ]
          },
          "metadata": {},
          "execution_count": 178
        }
      ]
    },
    {
      "cell_type": "code",
      "source": [
        "y"
      ],
      "metadata": {
        "colab": {
          "base_uri": "https://localhost:8080/"
        },
        "id": "tvtXTrJ7dGqC",
        "outputId": "1fc83579-783e-41ee-fe9c-0b491702e313"
      },
      "id": "tvtXTrJ7dGqC",
      "execution_count": null,
      "outputs": [
        {
          "output_type": "execute_result",
          "data": {
            "text/plain": [
              "0        4.526\n",
              "1        3.585\n",
              "2        3.521\n",
              "3        3.413\n",
              "4        3.422\n",
              "         ...  \n",
              "20635    0.781\n",
              "20636    0.771\n",
              "20637    0.923\n",
              "20638    0.847\n",
              "20639    0.894\n",
              "Name: target, Length: 20640, dtype: float64"
            ]
          },
          "metadata": {},
          "execution_count": 179
        }
      ]
    },
    {
      "cell_type": "code",
      "source": [
        "from sklearn.model_selection import train_test_split\n",
        "x_train,x_test,y_train,y_test=train_test_split(x,y,test_size=0.2,random_state = 1)\n",
        "x_train, x_val, y_train, y_val=train_test_split(x_train, y_train, test_size=0.25,random_state=1)"
      ],
      "metadata": {
        "id": "Q1jZ3CHzdMTV"
      },
      "id": "Q1jZ3CHzdMTV",
      "execution_count": null,
      "outputs": []
    },
    {
      "cell_type": "code",
      "source": [
        "print(x_train.shape)\n",
        "print(x_test.shape)\n",
        "print(y_test.shape)\n",
        "print(y_train.shape)\n",
        "print(x_val.shape)\n",
        "print(y_val.shape)"
      ],
      "metadata": {
        "colab": {
          "base_uri": "https://localhost:8080/"
        },
        "id": "5SsH9ZCqdRkY",
        "outputId": "75366ccf-2411-40ef-8e9d-5a08138c3dea"
      },
      "id": "5SsH9ZCqdRkY",
      "execution_count": null,
      "outputs": [
        {
          "output_type": "stream",
          "name": "stdout",
          "text": [
            "(12384, 8)\n",
            "(4128, 8)\n",
            "(4128,)\n",
            "(12384,)\n",
            "(4128, 8)\n",
            "(4128,)\n"
          ]
        }
      ]
    },
    {
      "cell_type": "code",
      "source": [
        "x_val"
      ],
      "metadata": {
        "colab": {
          "base_uri": "https://localhost:8080/",
          "height": 424
        },
        "id": "-0b5X90aenDp",
        "outputId": "b8e19cb7-9d66-42bf-ffa2-c6a7a046d18c"
      },
      "id": "-0b5X90aenDp",
      "execution_count": null,
      "outputs": [
        {
          "output_type": "execute_result",
          "data": {
            "text/plain": [
              "       MedInc  HouseAge   AveRooms  AveBedrms  Population  AveOccup  Latitude  \\\n",
              "4686   3.3594      45.0   3.823126   1.055365      3359.0  1.645762     34.07   \n",
              "14481  9.5245      23.0   7.607187   1.023544      2036.0  2.522924     32.82   \n",
              "1102   2.4028      17.0  31.777778   9.703704        47.0  1.740741     40.06   \n",
              "10662  5.8752      20.0   6.157667   1.058315      1192.0  2.574514     33.66   \n",
              "11906  3.4044      48.0   5.093085   0.925532      1060.0  2.819149     33.97   \n",
              "...       ...       ...        ...        ...         ...       ...       ...   \n",
              "1452   5.0092      24.0   6.487805   0.892683       656.0  3.200000     37.97   \n",
              "20283  3.2196      31.0   4.293160   1.039088      2695.0  4.389251     34.18   \n",
              "16084  5.1991      39.0   6.309446   1.094463       742.0  2.416938     37.73   \n",
              "20483  5.5955      18.0   5.881266   0.978892      1283.0  3.385224     34.28   \n",
              "19102  4.6534      24.0   6.596685   0.988950      1187.0  3.279006     38.25   \n",
              "\n",
              "       Longitude  \n",
              "4686     -118.35  \n",
              "14481    -117.25  \n",
              "1102     -121.54  \n",
              "10662    -117.81  \n",
              "11906    -117.39  \n",
              "...          ...  \n",
              "1452     -121.97  \n",
              "20283    -119.18  \n",
              "16084    -122.49  \n",
              "20483    -118.72  \n",
              "19102    -122.62  \n",
              "\n",
              "[4128 rows x 8 columns]"
            ],
            "text/html": [
              "\n",
              "  <div id=\"df-2b080d6a-10dc-4c1b-802f-f624ba48f78a\">\n",
              "    <div class=\"colab-df-container\">\n",
              "      <div>\n",
              "<style scoped>\n",
              "    .dataframe tbody tr th:only-of-type {\n",
              "        vertical-align: middle;\n",
              "    }\n",
              "\n",
              "    .dataframe tbody tr th {\n",
              "        vertical-align: top;\n",
              "    }\n",
              "\n",
              "    .dataframe thead th {\n",
              "        text-align: right;\n",
              "    }\n",
              "</style>\n",
              "<table border=\"1\" class=\"dataframe\">\n",
              "  <thead>\n",
              "    <tr style=\"text-align: right;\">\n",
              "      <th></th>\n",
              "      <th>MedInc</th>\n",
              "      <th>HouseAge</th>\n",
              "      <th>AveRooms</th>\n",
              "      <th>AveBedrms</th>\n",
              "      <th>Population</th>\n",
              "      <th>AveOccup</th>\n",
              "      <th>Latitude</th>\n",
              "      <th>Longitude</th>\n",
              "    </tr>\n",
              "  </thead>\n",
              "  <tbody>\n",
              "    <tr>\n",
              "      <th>4686</th>\n",
              "      <td>3.3594</td>\n",
              "      <td>45.0</td>\n",
              "      <td>3.823126</td>\n",
              "      <td>1.055365</td>\n",
              "      <td>3359.0</td>\n",
              "      <td>1.645762</td>\n",
              "      <td>34.07</td>\n",
              "      <td>-118.35</td>\n",
              "    </tr>\n",
              "    <tr>\n",
              "      <th>14481</th>\n",
              "      <td>9.5245</td>\n",
              "      <td>23.0</td>\n",
              "      <td>7.607187</td>\n",
              "      <td>1.023544</td>\n",
              "      <td>2036.0</td>\n",
              "      <td>2.522924</td>\n",
              "      <td>32.82</td>\n",
              "      <td>-117.25</td>\n",
              "    </tr>\n",
              "    <tr>\n",
              "      <th>1102</th>\n",
              "      <td>2.4028</td>\n",
              "      <td>17.0</td>\n",
              "      <td>31.777778</td>\n",
              "      <td>9.703704</td>\n",
              "      <td>47.0</td>\n",
              "      <td>1.740741</td>\n",
              "      <td>40.06</td>\n",
              "      <td>-121.54</td>\n",
              "    </tr>\n",
              "    <tr>\n",
              "      <th>10662</th>\n",
              "      <td>5.8752</td>\n",
              "      <td>20.0</td>\n",
              "      <td>6.157667</td>\n",
              "      <td>1.058315</td>\n",
              "      <td>1192.0</td>\n",
              "      <td>2.574514</td>\n",
              "      <td>33.66</td>\n",
              "      <td>-117.81</td>\n",
              "    </tr>\n",
              "    <tr>\n",
              "      <th>11906</th>\n",
              "      <td>3.4044</td>\n",
              "      <td>48.0</td>\n",
              "      <td>5.093085</td>\n",
              "      <td>0.925532</td>\n",
              "      <td>1060.0</td>\n",
              "      <td>2.819149</td>\n",
              "      <td>33.97</td>\n",
              "      <td>-117.39</td>\n",
              "    </tr>\n",
              "    <tr>\n",
              "      <th>...</th>\n",
              "      <td>...</td>\n",
              "      <td>...</td>\n",
              "      <td>...</td>\n",
              "      <td>...</td>\n",
              "      <td>...</td>\n",
              "      <td>...</td>\n",
              "      <td>...</td>\n",
              "      <td>...</td>\n",
              "    </tr>\n",
              "    <tr>\n",
              "      <th>1452</th>\n",
              "      <td>5.0092</td>\n",
              "      <td>24.0</td>\n",
              "      <td>6.487805</td>\n",
              "      <td>0.892683</td>\n",
              "      <td>656.0</td>\n",
              "      <td>3.200000</td>\n",
              "      <td>37.97</td>\n",
              "      <td>-121.97</td>\n",
              "    </tr>\n",
              "    <tr>\n",
              "      <th>20283</th>\n",
              "      <td>3.2196</td>\n",
              "      <td>31.0</td>\n",
              "      <td>4.293160</td>\n",
              "      <td>1.039088</td>\n",
              "      <td>2695.0</td>\n",
              "      <td>4.389251</td>\n",
              "      <td>34.18</td>\n",
              "      <td>-119.18</td>\n",
              "    </tr>\n",
              "    <tr>\n",
              "      <th>16084</th>\n",
              "      <td>5.1991</td>\n",
              "      <td>39.0</td>\n",
              "      <td>6.309446</td>\n",
              "      <td>1.094463</td>\n",
              "      <td>742.0</td>\n",
              "      <td>2.416938</td>\n",
              "      <td>37.73</td>\n",
              "      <td>-122.49</td>\n",
              "    </tr>\n",
              "    <tr>\n",
              "      <th>20483</th>\n",
              "      <td>5.5955</td>\n",
              "      <td>18.0</td>\n",
              "      <td>5.881266</td>\n",
              "      <td>0.978892</td>\n",
              "      <td>1283.0</td>\n",
              "      <td>3.385224</td>\n",
              "      <td>34.28</td>\n",
              "      <td>-118.72</td>\n",
              "    </tr>\n",
              "    <tr>\n",
              "      <th>19102</th>\n",
              "      <td>4.6534</td>\n",
              "      <td>24.0</td>\n",
              "      <td>6.596685</td>\n",
              "      <td>0.988950</td>\n",
              "      <td>1187.0</td>\n",
              "      <td>3.279006</td>\n",
              "      <td>38.25</td>\n",
              "      <td>-122.62</td>\n",
              "    </tr>\n",
              "  </tbody>\n",
              "</table>\n",
              "<p>4128 rows × 8 columns</p>\n",
              "</div>\n",
              "      <button class=\"colab-df-convert\" onclick=\"convertToInteractive('df-2b080d6a-10dc-4c1b-802f-f624ba48f78a')\"\n",
              "              title=\"Convert this dataframe to an interactive table.\"\n",
              "              style=\"display:none;\">\n",
              "        \n",
              "  <svg xmlns=\"http://www.w3.org/2000/svg\" height=\"24px\"viewBox=\"0 0 24 24\"\n",
              "       width=\"24px\">\n",
              "    <path d=\"M0 0h24v24H0V0z\" fill=\"none\"/>\n",
              "    <path d=\"M18.56 5.44l.94 2.06.94-2.06 2.06-.94-2.06-.94-.94-2.06-.94 2.06-2.06.94zm-11 1L8.5 8.5l.94-2.06 2.06-.94-2.06-.94L8.5 2.5l-.94 2.06-2.06.94zm10 10l.94 2.06.94-2.06 2.06-.94-2.06-.94-.94-2.06-.94 2.06-2.06.94z\"/><path d=\"M17.41 7.96l-1.37-1.37c-.4-.4-.92-.59-1.43-.59-.52 0-1.04.2-1.43.59L10.3 9.45l-7.72 7.72c-.78.78-.78 2.05 0 2.83L4 21.41c.39.39.9.59 1.41.59.51 0 1.02-.2 1.41-.59l7.78-7.78 2.81-2.81c.8-.78.8-2.07 0-2.86zM5.41 20L4 18.59l7.72-7.72 1.47 1.35L5.41 20z\"/>\n",
              "  </svg>\n",
              "      </button>\n",
              "      \n",
              "  <style>\n",
              "    .colab-df-container {\n",
              "      display:flex;\n",
              "      flex-wrap:wrap;\n",
              "      gap: 12px;\n",
              "    }\n",
              "\n",
              "    .colab-df-convert {\n",
              "      background-color: #E8F0FE;\n",
              "      border: none;\n",
              "      border-radius: 50%;\n",
              "      cursor: pointer;\n",
              "      display: none;\n",
              "      fill: #1967D2;\n",
              "      height: 32px;\n",
              "      padding: 0 0 0 0;\n",
              "      width: 32px;\n",
              "    }\n",
              "\n",
              "    .colab-df-convert:hover {\n",
              "      background-color: #E2EBFA;\n",
              "      box-shadow: 0px 1px 2px rgba(60, 64, 67, 0.3), 0px 1px 3px 1px rgba(60, 64, 67, 0.15);\n",
              "      fill: #174EA6;\n",
              "    }\n",
              "\n",
              "    [theme=dark] .colab-df-convert {\n",
              "      background-color: #3B4455;\n",
              "      fill: #D2E3FC;\n",
              "    }\n",
              "\n",
              "    [theme=dark] .colab-df-convert:hover {\n",
              "      background-color: #434B5C;\n",
              "      box-shadow: 0px 1px 3px 1px rgba(0, 0, 0, 0.15);\n",
              "      filter: drop-shadow(0px 1px 2px rgba(0, 0, 0, 0.3));\n",
              "      fill: #FFFFFF;\n",
              "    }\n",
              "  </style>\n",
              "\n",
              "      <script>\n",
              "        const buttonEl =\n",
              "          document.querySelector('#df-2b080d6a-10dc-4c1b-802f-f624ba48f78a button.colab-df-convert');\n",
              "        buttonEl.style.display =\n",
              "          google.colab.kernel.accessAllowed ? 'block' : 'none';\n",
              "\n",
              "        async function convertToInteractive(key) {\n",
              "          const element = document.querySelector('#df-2b080d6a-10dc-4c1b-802f-f624ba48f78a');\n",
              "          const dataTable =\n",
              "            await google.colab.kernel.invokeFunction('convertToInteractive',\n",
              "                                                     [key], {});\n",
              "          if (!dataTable) return;\n",
              "\n",
              "          const docLinkHtml = 'Like what you see? Visit the ' +\n",
              "            '<a target=\"_blank\" href=https://colab.research.google.com/notebooks/data_table.ipynb>data table notebook</a>'\n",
              "            + ' to learn more about interactive tables.';\n",
              "          element.innerHTML = '';\n",
              "          dataTable['output_type'] = 'display_data';\n",
              "          await google.colab.output.renderOutput(dataTable, element);\n",
              "          const docLink = document.createElement('div');\n",
              "          docLink.innerHTML = docLinkHtml;\n",
              "          element.appendChild(docLink);\n",
              "        }\n",
              "      </script>\n",
              "    </div>\n",
              "  </div>\n",
              "  "
            ]
          },
          "metadata": {},
          "execution_count": 182
        }
      ]
    },
    {
      "cell_type": "code",
      "execution_count": null,
      "id": "dabde1d0",
      "metadata": {
        "id": "dabde1d0"
      },
      "outputs": [],
      "source": [
        "from sklearn.preprocessing import StandardScaler\n",
        "scaler = StandardScaler()\n",
        "\n",
        "# Standardize the train data \n",
        "x_train = scaler.fit_transform(x_train)\n",
        "# Standardize the validation data \n",
        "x_valid = scaler.fit_transform(x_val)\n",
        "# Standardize the test data\n",
        "x_test =  scaler.fit_transform(x_test)"
      ]
    },
    {
      "cell_type": "code",
      "execution_count": null,
      "id": "79ceda95",
      "metadata": {
        "colab": {
          "base_uri": "https://localhost:8080/"
        },
        "id": "79ceda95",
        "outputId": "0b7b9691-dcc9-43ff-d4d0-96b11a4aad71"
      },
      "outputs": [
        {
          "output_type": "execute_result",
          "data": {
            "text/plain": [
              "(12384, 8)"
            ]
          },
          "metadata": {},
          "execution_count": 184
        }
      ],
      "source": [
        "x_train.shape"
      ]
    },
    {
      "cell_type": "code",
      "execution_count": null,
      "id": "81dcfa6a",
      "metadata": {
        "colab": {
          "base_uri": "https://localhost:8080/"
        },
        "id": "81dcfa6a",
        "outputId": "c6c084e3-229c-4609-dedd-506e6c943a56"
      },
      "outputs": [
        {
          "output_type": "execute_result",
          "data": {
            "text/plain": [
              "(array([[ 0.15127046, -0.76219449,  0.26464844, ..., -0.01433711,\n",
              "         -0.46720479,  0.69282843],\n",
              "        [-1.78923511, -1.47770514,  0.47577811, ..., -0.07583071,\n",
              "         -0.43917997,  1.33076719],\n",
              "        [-0.96902743, -0.12618502, -0.6654751 , ...,  0.05434519,\n",
              "         -0.86422307,  0.65295726],\n",
              "        ...,\n",
              "        [ 0.10638426, -0.84169567, -0.54158532, ..., -0.03393509,\n",
              "         -0.80817343,  0.60311829],\n",
              "        [-0.82407579,  0.98683155, -0.02656195, ..., -0.02934192,\n",
              "          0.53701791, -0.10957892],\n",
              "        [ 0.89719838, -1.55720633,  0.65901278, ...,  0.06608434,\n",
              "         -0.75212379,  0.97192664]]),\n",
              " array([[-0.3098735 ,  0.81226638, -0.48452945, ..., -1.03109037,\n",
              "         -0.73685251,  0.59953305],\n",
              "        [-0.96796106,  0.65331708, -0.21646778, ..., -0.31360171,\n",
              "          0.53929953, -0.11505424],\n",
              "        [ 0.08510325,  1.36858896, -0.49718178, ...,  0.69385846,\n",
              "          0.9850144 , -1.44358273],\n",
              "        ...,\n",
              "        [ 0.62064037, -0.22090411, -0.2101633 , ...,  0.59760795,\n",
              "          0.92402184, -1.4184212 ],\n",
              "        [ 0.53110817,  1.05069034, -0.01798055, ...,  0.05451116,\n",
              "         -0.72277731,  0.73037298],\n",
              "        [-0.5917188 ,  1.84543688,  0.19918887, ..., -0.07070091,\n",
              "         -0.76969466,  1.09269893]]),\n",
              " array([[-0.27653378,  1.29638149, -0.73473349, ..., -0.14972594,\n",
              "         -0.73781596,  0.61510767],\n",
              "        [ 2.94854349, -0.4486521 ,  0.97660577, ..., -0.06283106,\n",
              "         -1.32600777,  1.16220098],\n",
              "        [-0.77694885, -0.92457036, 11.90773998, ..., -0.14031699,\n",
              "          2.08079922, -0.97146291],\n",
              "        ...,\n",
              "        [ 0.68584715,  0.82046324,  0.3897033 , ..., -0.07333044,\n",
              "          0.98440968, -1.44395258],\n",
              "        [ 0.89321128, -0.84525065,  0.19605927, ...,  0.02259147,\n",
              "         -0.63899973,  0.43108538],\n",
              "        [ 0.40038143, -0.3693324 ,  0.51960688, ...,  0.01206906,\n",
              "          1.22909747, -1.50860906]]))"
            ]
          },
          "metadata": {},
          "execution_count": 185
        }
      ],
      "source": [
        "# print the splitting of data:\n",
        "x_train,x_test,x_valid"
      ]
    },
    {
      "cell_type": "code",
      "execution_count": null,
      "id": "ce3957a9",
      "metadata": {
        "id": "ce3957a9"
      },
      "outputs": [],
      "source": [
        "### MODEL BUILDING"
      ]
    },
    {
      "cell_type": "code",
      "execution_count": null,
      "id": "e9b9acdd",
      "metadata": {
        "id": "e9b9acdd"
      },
      "outputs": [],
      "source": [
        "## Linear Regression Model:"
      ]
    },
    {
      "cell_type": "code",
      "execution_count": null,
      "id": "cf913701",
      "metadata": {
        "colab": {
          "base_uri": "https://localhost:8080/"
        },
        "id": "cf913701",
        "outputId": "d260dae1-e174-4450-a7e2-3ab181ad3e37"
      },
      "outputs": [
        {
          "output_type": "execute_result",
          "data": {
            "text/plain": [
              "LinearRegression()"
            ]
          },
          "metadata": {},
          "execution_count": 188
        }
      ],
      "source": [
        "from sklearn.linear_model import LinearRegression\n",
        "regression = LinearRegression()\n",
        "regression.fit(x_train,y_train)"
      ]
    },
    {
      "cell_type": "code",
      "source": [
        "y_pred = regression.predict(x_test)"
      ],
      "metadata": {
        "id": "6u2-yHCTfS8M"
      },
      "id": "6u2-yHCTfS8M",
      "execution_count": null,
      "outputs": []
    },
    {
      "cell_type": "code",
      "source": [
        "y_pred"
      ],
      "metadata": {
        "colab": {
          "base_uri": "https://localhost:8080/"
        },
        "id": "6N1iEzGxfVjE",
        "outputId": "890d6d9f-db83-4b16-ab6d-04e3bf70db4c"
      },
      "id": "6N1iEzGxfVjE",
      "execution_count": null,
      "outputs": [
        {
          "output_type": "execute_result",
          "data": {
            "text/plain": [
              "array([2.22070901, 0.99624459, 2.71906848, ..., 2.91339015, 2.6279541 ,\n",
              "       1.48098913])"
            ]
          },
          "metadata": {},
          "execution_count": 190
        }
      ]
    },
    {
      "cell_type": "code",
      "source": [],
      "metadata": {
        "id": "behN97Hsfitw"
      },
      "id": "behN97Hsfitw",
      "execution_count": null,
      "outputs": []
    },
    {
      "cell_type": "code",
      "source": [
        "scores=get_metrics(y_train,regression.predict(x_train),y_test,regression.predict(x_test),'Lin_model',scores)\n",
        "scores"
      ],
      "metadata": {
        "colab": {
          "base_uri": "https://localhost:8080/",
          "height": 81
        },
        "id": "0bSsGW2OfodY",
        "outputId": "4426a64e-6039-4132-f336-f1cd72b5a0c2"
      },
      "id": "0bSsGW2OfodY",
      "execution_count": null,
      "outputs": [
        {
          "output_type": "execute_result",
          "data": {
            "text/plain": [
              "       Model  MAE_Train  MSE_Train  RMSE_Train  MAPE_Test  MAE_Test  MSE_Test  \\\n",
              "0  Lin_model   0.532789   0.529195    0.727458   0.315534  0.533631   0.52298   \n",
              "\n",
              "   RMSE_Test  MAPE_Test  \n",
              "0   0.723173   0.336336  "
            ],
            "text/html": [
              "\n",
              "  <div id=\"df-f5cc4570-d1f5-4083-95e4-6d0d0e35e917\">\n",
              "    <div class=\"colab-df-container\">\n",
              "      <div>\n",
              "<style scoped>\n",
              "    .dataframe tbody tr th:only-of-type {\n",
              "        vertical-align: middle;\n",
              "    }\n",
              "\n",
              "    .dataframe tbody tr th {\n",
              "        vertical-align: top;\n",
              "    }\n",
              "\n",
              "    .dataframe thead th {\n",
              "        text-align: right;\n",
              "    }\n",
              "</style>\n",
              "<table border=\"1\" class=\"dataframe\">\n",
              "  <thead>\n",
              "    <tr style=\"text-align: right;\">\n",
              "      <th></th>\n",
              "      <th>Model</th>\n",
              "      <th>MAE_Train</th>\n",
              "      <th>MSE_Train</th>\n",
              "      <th>RMSE_Train</th>\n",
              "      <th>MAPE_Test</th>\n",
              "      <th>MAE_Test</th>\n",
              "      <th>MSE_Test</th>\n",
              "      <th>RMSE_Test</th>\n",
              "      <th>MAPE_Test</th>\n",
              "    </tr>\n",
              "  </thead>\n",
              "  <tbody>\n",
              "    <tr>\n",
              "      <th>0</th>\n",
              "      <td>Lin_model</td>\n",
              "      <td>0.532789</td>\n",
              "      <td>0.529195</td>\n",
              "      <td>0.727458</td>\n",
              "      <td>0.315534</td>\n",
              "      <td>0.533631</td>\n",
              "      <td>0.52298</td>\n",
              "      <td>0.723173</td>\n",
              "      <td>0.336336</td>\n",
              "    </tr>\n",
              "  </tbody>\n",
              "</table>\n",
              "</div>\n",
              "      <button class=\"colab-df-convert\" onclick=\"convertToInteractive('df-f5cc4570-d1f5-4083-95e4-6d0d0e35e917')\"\n",
              "              title=\"Convert this dataframe to an interactive table.\"\n",
              "              style=\"display:none;\">\n",
              "        \n",
              "  <svg xmlns=\"http://www.w3.org/2000/svg\" height=\"24px\"viewBox=\"0 0 24 24\"\n",
              "       width=\"24px\">\n",
              "    <path d=\"M0 0h24v24H0V0z\" fill=\"none\"/>\n",
              "    <path d=\"M18.56 5.44l.94 2.06.94-2.06 2.06-.94-2.06-.94-.94-2.06-.94 2.06-2.06.94zm-11 1L8.5 8.5l.94-2.06 2.06-.94-2.06-.94L8.5 2.5l-.94 2.06-2.06.94zm10 10l.94 2.06.94-2.06 2.06-.94-2.06-.94-.94-2.06-.94 2.06-2.06.94z\"/><path d=\"M17.41 7.96l-1.37-1.37c-.4-.4-.92-.59-1.43-.59-.52 0-1.04.2-1.43.59L10.3 9.45l-7.72 7.72c-.78.78-.78 2.05 0 2.83L4 21.41c.39.39.9.59 1.41.59.51 0 1.02-.2 1.41-.59l7.78-7.78 2.81-2.81c.8-.78.8-2.07 0-2.86zM5.41 20L4 18.59l7.72-7.72 1.47 1.35L5.41 20z\"/>\n",
              "  </svg>\n",
              "      </button>\n",
              "      \n",
              "  <style>\n",
              "    .colab-df-container {\n",
              "      display:flex;\n",
              "      flex-wrap:wrap;\n",
              "      gap: 12px;\n",
              "    }\n",
              "\n",
              "    .colab-df-convert {\n",
              "      background-color: #E8F0FE;\n",
              "      border: none;\n",
              "      border-radius: 50%;\n",
              "      cursor: pointer;\n",
              "      display: none;\n",
              "      fill: #1967D2;\n",
              "      height: 32px;\n",
              "      padding: 0 0 0 0;\n",
              "      width: 32px;\n",
              "    }\n",
              "\n",
              "    .colab-df-convert:hover {\n",
              "      background-color: #E2EBFA;\n",
              "      box-shadow: 0px 1px 2px rgba(60, 64, 67, 0.3), 0px 1px 3px 1px rgba(60, 64, 67, 0.15);\n",
              "      fill: #174EA6;\n",
              "    }\n",
              "\n",
              "    [theme=dark] .colab-df-convert {\n",
              "      background-color: #3B4455;\n",
              "      fill: #D2E3FC;\n",
              "    }\n",
              "\n",
              "    [theme=dark] .colab-df-convert:hover {\n",
              "      background-color: #434B5C;\n",
              "      box-shadow: 0px 1px 3px 1px rgba(0, 0, 0, 0.15);\n",
              "      filter: drop-shadow(0px 1px 2px rgba(0, 0, 0, 0.3));\n",
              "      fill: #FFFFFF;\n",
              "    }\n",
              "  </style>\n",
              "\n",
              "      <script>\n",
              "        const buttonEl =\n",
              "          document.querySelector('#df-f5cc4570-d1f5-4083-95e4-6d0d0e35e917 button.colab-df-convert');\n",
              "        buttonEl.style.display =\n",
              "          google.colab.kernel.accessAllowed ? 'block' : 'none';\n",
              "\n",
              "        async function convertToInteractive(key) {\n",
              "          const element = document.querySelector('#df-f5cc4570-d1f5-4083-95e4-6d0d0e35e917');\n",
              "          const dataTable =\n",
              "            await google.colab.kernel.invokeFunction('convertToInteractive',\n",
              "                                                     [key], {});\n",
              "          if (!dataTable) return;\n",
              "\n",
              "          const docLinkHtml = 'Like what you see? Visit the ' +\n",
              "            '<a target=\"_blank\" href=https://colab.research.google.com/notebooks/data_table.ipynb>data table notebook</a>'\n",
              "            + ' to learn more about interactive tables.';\n",
              "          element.innerHTML = '';\n",
              "          dataTable['output_type'] = 'display_data';\n",
              "          await google.colab.output.renderOutput(dataTable, element);\n",
              "          const docLink = document.createElement('div');\n",
              "          docLink.innerHTML = docLinkHtml;\n",
              "          element.appendChild(docLink);\n",
              "        }\n",
              "      </script>\n",
              "    </div>\n",
              "  </div>\n",
              "  "
            ]
          },
          "metadata": {},
          "execution_count": 191
        }
      ]
    },
    {
      "cell_type": "code",
      "source": [
        "## Model Building for Random Forest\n",
        "from sklearn.ensemble import RandomForestRegressor  \n",
        "Regressor= RandomForestRegressor(n_estimators= 50)  \n",
        "Regressor.fit(x_train,y_train)"
      ],
      "metadata": {
        "id": "3KnH6omMf21h",
        "colab": {
          "base_uri": "https://localhost:8080/"
        },
        "outputId": "fdbd8a49-0b73-4177-c9d5-e66da9d7bdab"
      },
      "id": "3KnH6omMf21h",
      "execution_count": null,
      "outputs": [
        {
          "output_type": "execute_result",
          "data": {
            "text/plain": [
              "RandomForestRegressor(n_estimators=50)"
            ]
          },
          "metadata": {},
          "execution_count": 192
        }
      ]
    },
    {
      "cell_type": "code",
      "execution_count": null,
      "id": "6d2bf29b",
      "metadata": {
        "id": "6d2bf29b"
      },
      "outputs": [],
      "source": [
        "# To represent the results in a data frame:\n",
        "from sklearn import metrics\n",
        "import numpy as np\n",
        "scores = pd.DataFrame(columns=['Model','MAE_Train','MSE_Train','RMSE_Train','MAPE_Test','MAE_Test','MSE_Test','RMSE_Test','MAPE_Test'])\n",
        "\n",
        "def get_metrics(train_act,train_pred,test_act,test_pred,model_description,dataframe):\n",
        "    MAE_Train = metrics.mean_absolute_error(train_act,train_pred)\n",
        "    MSE_Train = metrics.mean_squared_error(train_act,train_pred)\n",
        "    RMSE_Train = np.sqrt(metrics.mean_squared_error(train_act,train_pred))\n",
        "    MAPE_Train = metrics.mean_absolute_percentage_error(train_act,train_pred)\n",
        "    MAE_Test = metrics.mean_absolute_error(test_act,test_pred)\n",
        "    MSE_Test = metrics.mean_squared_error(test_act,test_pred)\n",
        "    RMSE_Test = np.sqrt(metrics.mean_squared_error(test_act,test_pred))\n",
        "    MAPE_Test = metrics.mean_absolute_percentage_error(test_act,test_pred)\n",
        "       \n",
        "    dataframe=dataframe.append(pd.Series([model_description,MAE_Train,MSE_Train,RMSE_Train,MAPE_Train,MAE_Test,MSE_Test,RMSE_Test,MAPE_Test],index=scores.columns ), ignore_index=True)\n",
        "    \n",
        "    return(dataframe)"
      ]
    },
    {
      "cell_type": "code",
      "execution_count": null,
      "id": "19ee21f9",
      "metadata": {
        "id": "19ee21f9",
        "colab": {
          "base_uri": "https://localhost:8080/",
          "height": 81
        },
        "outputId": "2adcb4c5-f013-4e28-86a1-db755a99abe5"
      },
      "outputs": [
        {
          "output_type": "execute_result",
          "data": {
            "text/plain": [
              "          Model  MAE_Train  MSE_Train  RMSE_Train  MAPE_Test  MAE_Test  \\\n",
              "0  RandomForest   0.126524    0.03939    0.198468   0.071134  0.618751   \n",
              "\n",
              "   MSE_Test  RMSE_Test  MAPE_Test  \n",
              "0  0.747825   0.864769   0.406053  "
            ],
            "text/html": [
              "\n",
              "  <div id=\"df-29a02f55-9174-4c16-bfe6-d197a81b80c9\">\n",
              "    <div class=\"colab-df-container\">\n",
              "      <div>\n",
              "<style scoped>\n",
              "    .dataframe tbody tr th:only-of-type {\n",
              "        vertical-align: middle;\n",
              "    }\n",
              "\n",
              "    .dataframe tbody tr th {\n",
              "        vertical-align: top;\n",
              "    }\n",
              "\n",
              "    .dataframe thead th {\n",
              "        text-align: right;\n",
              "    }\n",
              "</style>\n",
              "<table border=\"1\" class=\"dataframe\">\n",
              "  <thead>\n",
              "    <tr style=\"text-align: right;\">\n",
              "      <th></th>\n",
              "      <th>Model</th>\n",
              "      <th>MAE_Train</th>\n",
              "      <th>MSE_Train</th>\n",
              "      <th>RMSE_Train</th>\n",
              "      <th>MAPE_Test</th>\n",
              "      <th>MAE_Test</th>\n",
              "      <th>MSE_Test</th>\n",
              "      <th>RMSE_Test</th>\n",
              "      <th>MAPE_Test</th>\n",
              "    </tr>\n",
              "  </thead>\n",
              "  <tbody>\n",
              "    <tr>\n",
              "      <th>0</th>\n",
              "      <td>RandomForest</td>\n",
              "      <td>0.126524</td>\n",
              "      <td>0.03939</td>\n",
              "      <td>0.198468</td>\n",
              "      <td>0.071134</td>\n",
              "      <td>0.618751</td>\n",
              "      <td>0.747825</td>\n",
              "      <td>0.864769</td>\n",
              "      <td>0.406053</td>\n",
              "    </tr>\n",
              "  </tbody>\n",
              "</table>\n",
              "</div>\n",
              "      <button class=\"colab-df-convert\" onclick=\"convertToInteractive('df-29a02f55-9174-4c16-bfe6-d197a81b80c9')\"\n",
              "              title=\"Convert this dataframe to an interactive table.\"\n",
              "              style=\"display:none;\">\n",
              "        \n",
              "  <svg xmlns=\"http://www.w3.org/2000/svg\" height=\"24px\"viewBox=\"0 0 24 24\"\n",
              "       width=\"24px\">\n",
              "    <path d=\"M0 0h24v24H0V0z\" fill=\"none\"/>\n",
              "    <path d=\"M18.56 5.44l.94 2.06.94-2.06 2.06-.94-2.06-.94-.94-2.06-.94 2.06-2.06.94zm-11 1L8.5 8.5l.94-2.06 2.06-.94-2.06-.94L8.5 2.5l-.94 2.06-2.06.94zm10 10l.94 2.06.94-2.06 2.06-.94-2.06-.94-.94-2.06-.94 2.06-2.06.94z\"/><path d=\"M17.41 7.96l-1.37-1.37c-.4-.4-.92-.59-1.43-.59-.52 0-1.04.2-1.43.59L10.3 9.45l-7.72 7.72c-.78.78-.78 2.05 0 2.83L4 21.41c.39.39.9.59 1.41.59.51 0 1.02-.2 1.41-.59l7.78-7.78 2.81-2.81c.8-.78.8-2.07 0-2.86zM5.41 20L4 18.59l7.72-7.72 1.47 1.35L5.41 20z\"/>\n",
              "  </svg>\n",
              "      </button>\n",
              "      \n",
              "  <style>\n",
              "    .colab-df-container {\n",
              "      display:flex;\n",
              "      flex-wrap:wrap;\n",
              "      gap: 12px;\n",
              "    }\n",
              "\n",
              "    .colab-df-convert {\n",
              "      background-color: #E8F0FE;\n",
              "      border: none;\n",
              "      border-radius: 50%;\n",
              "      cursor: pointer;\n",
              "      display: none;\n",
              "      fill: #1967D2;\n",
              "      height: 32px;\n",
              "      padding: 0 0 0 0;\n",
              "      width: 32px;\n",
              "    }\n",
              "\n",
              "    .colab-df-convert:hover {\n",
              "      background-color: #E2EBFA;\n",
              "      box-shadow: 0px 1px 2px rgba(60, 64, 67, 0.3), 0px 1px 3px 1px rgba(60, 64, 67, 0.15);\n",
              "      fill: #174EA6;\n",
              "    }\n",
              "\n",
              "    [theme=dark] .colab-df-convert {\n",
              "      background-color: #3B4455;\n",
              "      fill: #D2E3FC;\n",
              "    }\n",
              "\n",
              "    [theme=dark] .colab-df-convert:hover {\n",
              "      background-color: #434B5C;\n",
              "      box-shadow: 0px 1px 3px 1px rgba(0, 0, 0, 0.15);\n",
              "      filter: drop-shadow(0px 1px 2px rgba(0, 0, 0, 0.3));\n",
              "      fill: #FFFFFF;\n",
              "    }\n",
              "  </style>\n",
              "\n",
              "      <script>\n",
              "        const buttonEl =\n",
              "          document.querySelector('#df-29a02f55-9174-4c16-bfe6-d197a81b80c9 button.colab-df-convert');\n",
              "        buttonEl.style.display =\n",
              "          google.colab.kernel.accessAllowed ? 'block' : 'none';\n",
              "\n",
              "        async function convertToInteractive(key) {\n",
              "          const element = document.querySelector('#df-29a02f55-9174-4c16-bfe6-d197a81b80c9');\n",
              "          const dataTable =\n",
              "            await google.colab.kernel.invokeFunction('convertToInteractive',\n",
              "                                                     [key], {});\n",
              "          if (!dataTable) return;\n",
              "\n",
              "          const docLinkHtml = 'Like what you see? Visit the ' +\n",
              "            '<a target=\"_blank\" href=https://colab.research.google.com/notebooks/data_table.ipynb>data table notebook</a>'\n",
              "            + ' to learn more about interactive tables.';\n",
              "          element.innerHTML = '';\n",
              "          dataTable['output_type'] = 'display_data';\n",
              "          await google.colab.output.renderOutput(dataTable, element);\n",
              "          const docLink = document.createElement('div');\n",
              "          docLink.innerHTML = docLinkHtml;\n",
              "          element.appendChild(docLink);\n",
              "        }\n",
              "      </script>\n",
              "    </div>\n",
              "  </div>\n",
              "  "
            ]
          },
          "metadata": {},
          "execution_count": 194
        }
      ],
      "source": [
        "scores=get_metrics(y_train,Regressor.predict(x_train),y_test,Regressor.predict(x_test),'RandomForest',scores)\n",
        "scores"
      ]
    },
    {
      "cell_type": "code",
      "execution_count": null,
      "id": "69e6aee0",
      "metadata": {
        "id": "69e6aee0"
      },
      "outputs": [],
      "source": [
        "# ANN Model with 2 layers with xx nodes in each layer\n",
        "import numpy as np\n",
        "import tensorflow as tf\n",
        "from tensorflow.keras.models import Sequential\n",
        "from tensorflow.keras.layers import Dense "
      ]
    },
    {
      "cell_type": "code",
      "execution_count": null,
      "id": "23c0c8af",
      "metadata": {
        "id": "23c0c8af"
      },
      "outputs": [],
      "source": [
        "model=Sequential()\n",
        "model.add(Dense(10, input_shape=(8,), activation='sigmoid'))\n",
        "model.add(Dense(20,activation='sigmoid'))\n",
        "model.add(Dense(1,activation='linear'))"
      ]
    },
    {
      "cell_type": "code",
      "source": [
        "model.summary"
      ],
      "metadata": {
        "colab": {
          "base_uri": "https://localhost:8080/"
        },
        "id": "aPPiZK6aEIys",
        "outputId": "5d18ff72-ced2-42de-964a-5e4aea751a2b"
      },
      "id": "aPPiZK6aEIys",
      "execution_count": null,
      "outputs": [
        {
          "output_type": "execute_result",
          "data": {
            "text/plain": [
              "<bound method Model.summary of <keras.engine.sequential.Sequential object at 0x7f0b41a2f210>>"
            ]
          },
          "metadata": {},
          "execution_count": 197
        }
      ]
    },
    {
      "cell_type": "code",
      "execution_count": null,
      "id": "9e6c70fc",
      "metadata": {
        "id": "9e6c70fc"
      },
      "outputs": [],
      "source": [
        "# Compile the model with loss as mean_squared error \n",
        "# and Optimizer as SGD \n",
        "model.compile(optimizer='SGD',loss='mean_squared_error',metrics=['accuracy'])"
      ]
    },
    {
      "cell_type": "code",
      "execution_count": null,
      "id": "44f86cbb",
      "metadata": {
        "id": "44f86cbb",
        "colab": {
          "base_uri": "https://localhost:8080/"
        },
        "outputId": "cd7a57a0-7dca-4f8d-c23c-ca37b86c40f8"
      },
      "outputs": [
        {
          "output_type": "stream",
          "name": "stdout",
          "text": [
            "Epoch 1/20\n",
            "387/387 [==============================] - 1s 2ms/step - loss: 1.3888 - accuracy: 0.0032 - val_loss: 1.2109 - val_accuracy: 0.0027\n",
            "Epoch 2/20\n",
            "387/387 [==============================] - 1s 2ms/step - loss: 1.0959 - accuracy: 0.0032 - val_loss: 0.9201 - val_accuracy: 0.0027\n",
            "Epoch 3/20\n",
            "387/387 [==============================] - 1s 2ms/step - loss: 0.7765 - accuracy: 0.0032 - val_loss: 0.6432 - val_accuracy: 0.0027\n",
            "Epoch 4/20\n",
            "387/387 [==============================] - 1s 2ms/step - loss: 0.6122 - accuracy: 0.0032 - val_loss: 0.5665 - val_accuracy: 0.0027\n",
            "Epoch 5/20\n",
            "387/387 [==============================] - 1s 2ms/step - loss: 0.5700 - accuracy: 0.0032 - val_loss: 0.5393 - val_accuracy: 0.0027\n",
            "Epoch 6/20\n",
            "387/387 [==============================] - 1s 2ms/step - loss: 0.5455 - accuracy: 0.0032 - val_loss: 0.5132 - val_accuracy: 0.0027\n",
            "Epoch 7/20\n",
            "387/387 [==============================] - 1s 2ms/step - loss: 0.5259 - accuracy: 0.0032 - val_loss: 0.4933 - val_accuracy: 0.0027\n",
            "Epoch 8/20\n",
            "387/387 [==============================] - 1s 2ms/step - loss: 0.5099 - accuracy: 0.0032 - val_loss: 0.4781 - val_accuracy: 0.0027\n",
            "Epoch 9/20\n",
            "387/387 [==============================] - 1s 2ms/step - loss: 0.4963 - accuracy: 0.0032 - val_loss: 0.4665 - val_accuracy: 0.0027\n",
            "Epoch 10/20\n",
            "387/387 [==============================] - 1s 2ms/step - loss: 0.4854 - accuracy: 0.0032 - val_loss: 0.4597 - val_accuracy: 0.0027\n",
            "Epoch 11/20\n",
            "387/387 [==============================] - 1s 2ms/step - loss: 0.4779 - accuracy: 0.0032 - val_loss: 0.4514 - val_accuracy: 0.0027\n",
            "Epoch 12/20\n",
            "387/387 [==============================] - 1s 2ms/step - loss: 0.4724 - accuracy: 0.0032 - val_loss: 0.4452 - val_accuracy: 0.0027\n",
            "Epoch 13/20\n",
            "387/387 [==============================] - 1s 2ms/step - loss: 0.4676 - accuracy: 0.0032 - val_loss: 0.4429 - val_accuracy: 0.0027\n",
            "Epoch 14/20\n",
            "387/387 [==============================] - 1s 2ms/step - loss: 0.4638 - accuracy: 0.0032 - val_loss: 0.4384 - val_accuracy: 0.0027\n",
            "Epoch 15/20\n",
            "387/387 [==============================] - 1s 2ms/step - loss: 0.4615 - accuracy: 0.0032 - val_loss: 0.4368 - val_accuracy: 0.0027\n",
            "Epoch 16/20\n",
            "387/387 [==============================] - 1s 2ms/step - loss: 0.4590 - accuracy: 0.0032 - val_loss: 0.4343 - val_accuracy: 0.0027\n",
            "Epoch 17/20\n",
            "387/387 [==============================] - 1s 2ms/step - loss: 0.4569 - accuracy: 0.0032 - val_loss: 0.4311 - val_accuracy: 0.0027\n",
            "Epoch 18/20\n",
            "387/387 [==============================] - 1s 2ms/step - loss: 0.4553 - accuracy: 0.0032 - val_loss: 0.4309 - val_accuracy: 0.0027\n",
            "Epoch 19/20\n",
            "387/387 [==============================] - 1s 2ms/step - loss: 0.4533 - accuracy: 0.0032 - val_loss: 0.4291 - val_accuracy: 0.0027\n",
            "Epoch 20/20\n",
            "387/387 [==============================] - 1s 2ms/step - loss: 0.4516 - accuracy: 0.0032 - val_loss: 0.4270 - val_accuracy: 0.0027\n"
          ]
        }
      ],
      "source": [
        "model_history = model.fit(x_train, y_train, epochs=20, validation_data=(x_valid, y_val))"
      ]
    },
    {
      "cell_type": "code",
      "execution_count": null,
      "id": "07a522cd",
      "metadata": {
        "id": "07a522cd",
        "colab": {
          "base_uri": "https://localhost:8080/",
          "height": 112
        },
        "outputId": "050d3a5a-fbc0-4e18-9c3c-ea57b5c46fb6"
      },
      "outputs": [
        {
          "output_type": "execute_result",
          "data": {
            "text/plain": [
              "          Model  MAE_Train  MSE_Train  RMSE_Train  MAPE_Test  MAE_Test  \\\n",
              "0  RandomForest   0.126524    0.03939    0.198468   0.071134  0.618751   \n",
              "1     ANN_model   0.488350    0.45039    0.671111   0.286338  0.593673   \n",
              "\n",
              "   MSE_Test  RMSE_Test  MAPE_Test  \n",
              "0  0.747825   0.864769   0.406053  \n",
              "1  0.615919   0.784805   0.388079  "
            ],
            "text/html": [
              "\n",
              "  <div id=\"df-2e9df33e-90e8-4285-9c7e-d6071afc894d\">\n",
              "    <div class=\"colab-df-container\">\n",
              "      <div>\n",
              "<style scoped>\n",
              "    .dataframe tbody tr th:only-of-type {\n",
              "        vertical-align: middle;\n",
              "    }\n",
              "\n",
              "    .dataframe tbody tr th {\n",
              "        vertical-align: top;\n",
              "    }\n",
              "\n",
              "    .dataframe thead th {\n",
              "        text-align: right;\n",
              "    }\n",
              "</style>\n",
              "<table border=\"1\" class=\"dataframe\">\n",
              "  <thead>\n",
              "    <tr style=\"text-align: right;\">\n",
              "      <th></th>\n",
              "      <th>Model</th>\n",
              "      <th>MAE_Train</th>\n",
              "      <th>MSE_Train</th>\n",
              "      <th>RMSE_Train</th>\n",
              "      <th>MAPE_Test</th>\n",
              "      <th>MAE_Test</th>\n",
              "      <th>MSE_Test</th>\n",
              "      <th>RMSE_Test</th>\n",
              "      <th>MAPE_Test</th>\n",
              "    </tr>\n",
              "  </thead>\n",
              "  <tbody>\n",
              "    <tr>\n",
              "      <th>0</th>\n",
              "      <td>RandomForest</td>\n",
              "      <td>0.126524</td>\n",
              "      <td>0.03939</td>\n",
              "      <td>0.198468</td>\n",
              "      <td>0.071134</td>\n",
              "      <td>0.618751</td>\n",
              "      <td>0.747825</td>\n",
              "      <td>0.864769</td>\n",
              "      <td>0.406053</td>\n",
              "    </tr>\n",
              "    <tr>\n",
              "      <th>1</th>\n",
              "      <td>ANN_model</td>\n",
              "      <td>0.488350</td>\n",
              "      <td>0.45039</td>\n",
              "      <td>0.671111</td>\n",
              "      <td>0.286338</td>\n",
              "      <td>0.593673</td>\n",
              "      <td>0.615919</td>\n",
              "      <td>0.784805</td>\n",
              "      <td>0.388079</td>\n",
              "    </tr>\n",
              "  </tbody>\n",
              "</table>\n",
              "</div>\n",
              "      <button class=\"colab-df-convert\" onclick=\"convertToInteractive('df-2e9df33e-90e8-4285-9c7e-d6071afc894d')\"\n",
              "              title=\"Convert this dataframe to an interactive table.\"\n",
              "              style=\"display:none;\">\n",
              "        \n",
              "  <svg xmlns=\"http://www.w3.org/2000/svg\" height=\"24px\"viewBox=\"0 0 24 24\"\n",
              "       width=\"24px\">\n",
              "    <path d=\"M0 0h24v24H0V0z\" fill=\"none\"/>\n",
              "    <path d=\"M18.56 5.44l.94 2.06.94-2.06 2.06-.94-2.06-.94-.94-2.06-.94 2.06-2.06.94zm-11 1L8.5 8.5l.94-2.06 2.06-.94-2.06-.94L8.5 2.5l-.94 2.06-2.06.94zm10 10l.94 2.06.94-2.06 2.06-.94-2.06-.94-.94-2.06-.94 2.06-2.06.94z\"/><path d=\"M17.41 7.96l-1.37-1.37c-.4-.4-.92-.59-1.43-.59-.52 0-1.04.2-1.43.59L10.3 9.45l-7.72 7.72c-.78.78-.78 2.05 0 2.83L4 21.41c.39.39.9.59 1.41.59.51 0 1.02-.2 1.41-.59l7.78-7.78 2.81-2.81c.8-.78.8-2.07 0-2.86zM5.41 20L4 18.59l7.72-7.72 1.47 1.35L5.41 20z\"/>\n",
              "  </svg>\n",
              "      </button>\n",
              "      \n",
              "  <style>\n",
              "    .colab-df-container {\n",
              "      display:flex;\n",
              "      flex-wrap:wrap;\n",
              "      gap: 12px;\n",
              "    }\n",
              "\n",
              "    .colab-df-convert {\n",
              "      background-color: #E8F0FE;\n",
              "      border: none;\n",
              "      border-radius: 50%;\n",
              "      cursor: pointer;\n",
              "      display: none;\n",
              "      fill: #1967D2;\n",
              "      height: 32px;\n",
              "      padding: 0 0 0 0;\n",
              "      width: 32px;\n",
              "    }\n",
              "\n",
              "    .colab-df-convert:hover {\n",
              "      background-color: #E2EBFA;\n",
              "      box-shadow: 0px 1px 2px rgba(60, 64, 67, 0.3), 0px 1px 3px 1px rgba(60, 64, 67, 0.15);\n",
              "      fill: #174EA6;\n",
              "    }\n",
              "\n",
              "    [theme=dark] .colab-df-convert {\n",
              "      background-color: #3B4455;\n",
              "      fill: #D2E3FC;\n",
              "    }\n",
              "\n",
              "    [theme=dark] .colab-df-convert:hover {\n",
              "      background-color: #434B5C;\n",
              "      box-shadow: 0px 1px 3px 1px rgba(0, 0, 0, 0.15);\n",
              "      filter: drop-shadow(0px 1px 2px rgba(0, 0, 0, 0.3));\n",
              "      fill: #FFFFFF;\n",
              "    }\n",
              "  </style>\n",
              "\n",
              "      <script>\n",
              "        const buttonEl =\n",
              "          document.querySelector('#df-2e9df33e-90e8-4285-9c7e-d6071afc894d button.colab-df-convert');\n",
              "        buttonEl.style.display =\n",
              "          google.colab.kernel.accessAllowed ? 'block' : 'none';\n",
              "\n",
              "        async function convertToInteractive(key) {\n",
              "          const element = document.querySelector('#df-2e9df33e-90e8-4285-9c7e-d6071afc894d');\n",
              "          const dataTable =\n",
              "            await google.colab.kernel.invokeFunction('convertToInteractive',\n",
              "                                                     [key], {});\n",
              "          if (!dataTable) return;\n",
              "\n",
              "          const docLinkHtml = 'Like what you see? Visit the ' +\n",
              "            '<a target=\"_blank\" href=https://colab.research.google.com/notebooks/data_table.ipynb>data table notebook</a>'\n",
              "            + ' to learn more about interactive tables.';\n",
              "          element.innerHTML = '';\n",
              "          dataTable['output_type'] = 'display_data';\n",
              "          await google.colab.output.renderOutput(dataTable, element);\n",
              "          const docLink = document.createElement('div');\n",
              "          docLink.innerHTML = docLinkHtml;\n",
              "          element.appendChild(docLink);\n",
              "        }\n",
              "      </script>\n",
              "    </div>\n",
              "  </div>\n",
              "  "
            ]
          },
          "metadata": {},
          "execution_count": 200
        }
      ],
      "source": [
        "scores=get_metrics(y_train,model.predict(x_train),y_test,model.predict(x_test),'ANN_model',scores)\n",
        "scores"
      ]
    }
  ],
  "metadata": {
    "kernelspec": {
      "display_name": "Python 3 (ipykernel)",
      "language": "python",
      "name": "python3"
    },
    "language_info": {
      "codemirror_mode": {
        "name": "ipython",
        "version": 3
      },
      "file_extension": ".py",
      "mimetype": "text/x-python",
      "name": "python",
      "nbconvert_exporter": "python",
      "pygments_lexer": "ipython3",
      "version": "3.9.7"
    },
    "colab": {
      "provenance": [],
      "include_colab_link": true
    }
  },
  "nbformat": 4,
  "nbformat_minor": 5
}